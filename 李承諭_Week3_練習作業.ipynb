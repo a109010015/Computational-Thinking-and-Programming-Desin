{
  "nbformat": 4,
  "nbformat_minor": 0,
  "metadata": {
    "colab": {
      "name": "李承諭-Week3-練習作業.ipynb",
      "provenance": [],
      "authorship_tag": "ABX9TyOlHSjPMCZdVokH9ByhlKlw",
      "include_colab_link": true
    },
    "kernelspec": {
      "name": "python3",
      "display_name": "Python 3"
    }
  },
  "cells": [
    {
      "cell_type": "markdown",
      "metadata": {
        "id": "view-in-github",
        "colab_type": "text"
      },
      "source": [
        "<a href=\"https://colab.research.google.com/github/a109010015/Computational-Thinking-and-Programming-Desin/blob/main/%E6%9D%8E%E6%89%BF%E8%AB%AD_Week3_%E7%B7%B4%E7%BF%92%E4%BD%9C%E6%A5%AD.ipynb\" target=\"_parent\"><img src=\"https://colab.research.google.com/assets/colab-badge.svg\" alt=\"Open In Colab\"/></a>"
      ]
    },
    {
      "cell_type": "code",
      "metadata": {
        "id": "Umgy86BHXrKq"
      },
      "source": [
        ""
      ],
      "execution_count": null,
      "outputs": []
    },
    {
      "cell_type": "markdown",
      "metadata": {
        "id": "5keK7fkBXyrl"
      },
      "source": [
        "#隨堂練習\r\n"
      ]
    },
    {
      "cell_type": "markdown",
      "metadata": {
        "id": "c9PF2fJYZsLk"
      },
      "source": [
        "電腦主要是由硬體與軟體兩部分,構成電腦系統架構,可以提供使用者在其中執行應用程式和處\r\n",
        "理資料。硬體是具體可見的零件,而軟體則是指揮硬體運作的靈魂。"
      ]
    },
    {
      "cell_type": "markdown",
      "metadata": {
        "id": "x5nVlP4ue-gU"
      },
      "source": [
        "電腦的主機就像人類的大腦一樣,是電腦中最重要的部分。\r\n",
        "電腦的主機中包含中央處理器、記憶體、及介面卡等,這些東⻄都放在主機板上,而且外面以外\r\n",
        "殼保護著。相對於電腦主機以外的硬體,都稱為電腦的「週邊設備」,常見的週邊設備有顯示\r\n",
        "器、鍵盤、滑鼠、磁碟機、光碟機、印表機、數據機等。"
      ]
    },
    {
      "cell_type": "markdown",
      "metadata": {
        "id": "mGnx6PkwZngU"
      },
      "source": [
        "#課後作業"
      ]
    },
    {
      "cell_type": "markdown",
      "metadata": {
        "id": "8-hcUZaHZtdk"
      },
      "source": [
        "課後練習則為從一則新聞報導,提出你對新聞系學生為什麼要學「運算思維與程式設計」的見解。"
      ]
    },
    {
      "cell_type": "markdown",
      "metadata": {
        "id": "mZSdaKElaEhc"
      },
      "source": [
        "https://www.managertoday.com.tw/articles/view/55799\r\n",
        "本文中提出台大資管系助理教授助理教授2012南開始教售該系必修課程 程式設計 ,修課的同學擔心自己未來被機器人取代所以學習動機很強。學習運算思維必須先定義步驟、流程，再將之模組化，所以習慣寫程式的人在遇到問題時，會開始考慮所有可能性，把工作拆解、步驟化等，久而久之，就變成他的思考模式。在編寫複雜的程式時，會需要多人協作，但它不像簡報製作，只要把所有資料彙整成檔案就完成。一群人共同編寫程式時，必須先約定好輸入（input）與輸出（output）的格式，否則會「牛頭不對馬嘴」，讓程式無法順利編譯、執行。我認為運算思維能讓我們處理事情更有條理，能更好的處理問題。"
      ]
    }
  ]
}